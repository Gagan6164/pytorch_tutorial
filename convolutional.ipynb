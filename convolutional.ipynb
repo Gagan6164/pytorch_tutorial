{
 "cells": [
  {
   "cell_type": "code",
   "execution_count": 2,
   "metadata": {},
   "outputs": [],
   "source": [
    "import numpy as np\n",
    "import skimage.measure\n",
    "\n",
    "x = np.random.random((7,7))\n",
    "w = np.random.random((3,3))\n",
    "\n",
    "def max_pool(x , size=3):\n",
    "    return skimage.measure.block_reduce(x, (size,size), np.max)\n"
   ]
  },
  {
   "cell_type": "code",
   "execution_count": 4,
   "metadata": {},
   "outputs": [
    {
     "name": "stdout",
     "output_type": "stream",
     "text": [
      "[[0.82545955 0.13531091 0.56329685 0.87140036 0.4634755  0.4923412\n",
      "  0.82072016]\n",
      " [0.92117138 0.04948817 0.68308021 0.44404806 0.6315231  0.68241088\n",
      "  0.01117548]\n",
      " [0.13896362 0.56612814 0.41761682 0.59172078 0.03365233 0.59858639\n",
      "  0.55727319]\n",
      " [0.43983899 0.48302102 0.15949862 0.44438335 0.32780904 0.1355423\n",
      "  0.16990409]\n",
      " [0.96522829 0.84973581 0.88623584 0.29427721 0.27292884 0.36955926\n",
      "  0.77618666]\n",
      " [0.11597338 0.99428403 0.07862587 0.02719793 0.36557205 0.45417065\n",
      "  0.86651244]\n",
      " [0.2246729  0.76412157 0.27759462 0.75953561 0.85453097 0.91227562\n",
      "  0.34770531]]\n"
     ]
    },
    {
     "data": {
      "text/plain": [
       "array([[0.92117138, 0.87140036, 0.82072016],\n",
       "       [0.99428403, 0.45417065, 0.86651244],\n",
       "       [0.76412157, 0.91227562, 0.34770531]])"
      ]
     },
     "execution_count": 4,
     "metadata": {},
     "output_type": "execute_result"
    }
   ],
   "source": [
    "print(np.array(x))\n",
    "max_pool(x)\n"
   ]
  },
  {
   "cell_type": "code",
   "execution_count": 5,
   "metadata": {},
   "outputs": [],
   "source": [
    "#conv(w,x)"
   ]
  },
  {
   "cell_type": "code",
   "execution_count": null,
   "metadata": {},
   "outputs": [],
   "source": []
  }
 ],
 "metadata": {
  "kernelspec": {
   "display_name": "Python 3",
   "language": "python",
   "name": "python3"
  },
  "language_info": {
   "codemirror_mode": {
    "name": "ipython",
    "version": 3
   },
   "file_extension": ".py",
   "mimetype": "text/x-python",
   "name": "python",
   "nbconvert_exporter": "python",
   "pygments_lexer": "ipython3",
   "version": "3.7.0"
  }
 },
 "nbformat": 4,
 "nbformat_minor": 2
}
