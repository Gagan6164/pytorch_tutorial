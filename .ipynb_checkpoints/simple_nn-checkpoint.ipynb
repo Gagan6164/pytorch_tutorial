{
 "cells": [
  {
   "cell_type": "code",
   "execution_count": 4,
   "metadata": {},
   "outputs": [
    {
     "name": "stdout",
     "output_type": "stream",
     "text": [
      "[[-0.16595599  0.44064899 -0.99977125 -0.39533485]\n",
      " [-0.70648822 -0.81532281 -0.62747958 -0.30887855]\n",
      " [-0.20646505  0.07763347 -0.16161097  0.370439  ]]\n",
      "[[-0.5910955 ]\n",
      " [ 0.75623487]\n",
      " [-0.94522481]\n",
      " [ 0.34093502]]\n",
      "output after training\n",
      "[[0.98874421]\n",
      " [0.01082003]\n",
      " [0.96108318]\n",
      " [0.03680792]]\n",
      "[[ 3.27892463 -0.93536028  1.01395806 -3.34764918]\n",
      " [-1.47957309 -0.16801795 -1.19737137  1.45426611]\n",
      " [-0.88341215  0.53283995 -0.65772871  1.16013834]]\n",
      "[[-4.08556359]\n",
      " [ 1.21168885]\n",
      " [-1.46959306]\n",
      " [ 4.62785223]]\n"
     ]
    }
   ],
   "source": [
    "import numpy as np\n",
    "\n",
    "def sigmoid(x, deriv = False):\n",
    "    if (deriv==True):\n",
    "        return (x*(1-x))\n",
    "    return (1/(1+np.exp(-x)))\n",
    "\n",
    "x = np.array([[0,1,1],\n",
    "             [1,0,0],\n",
    "             [0,1,0],\n",
    "             [1,1,0]])\n",
    "\n",
    "y = np.array([[0],[0],[1],[0]])\n",
    "\n",
    "#seed\n",
    "\n",
    "np.random.seed(1)\n",
    "\n",
    "# synopsys\n",
    "\n",
    "syn0 = 2*np.random.random((3,4)) - 1 \n",
    "syn1 = 2*np.random.random((4,1)) - 1\n",
    "\n",
    "#print(syn0)\n",
    "#print(syn1)\n",
    "\n",
    "for i in range(500):\n",
    "    l0 = x\n",
    "    l1 = sigmoid(np.dot(l0 , syn0))\n",
    "    l2 = sigmoid(np.dot(l1, syn1))\n",
    "    \n",
    "    # backpropogation\n",
    "    \n",
    "    l2_error = y - l2\n",
    "    \n",
    "    \n",
    "    # delta\n",
    "    \n",
    "    l2_delta = l2_error*sigmoid(l2, deriv=True)\n",
    "    l1_error = l2_delta.dot(syn1.T)\n",
    "    l1_delta = l1_error*sigmoid(l1, deriv=True)\n",
    "    \n",
    "    # update synopsys\n",
    "    \n",
    "    syn1 += l1.T.dot(l2_delta)\n",
    "    syn0 += l0.T.dot(l1_delta)\n",
    "    \n",
    "print(\"output after training\")\n",
    "print(l2)\n",
    "print(syn0)\n",
    "print(syn1)\n",
    "    \n",
    "    \n"
   ]
  },
  {
   "cell_type": "code",
   "execution_count": null,
   "metadata": {},
   "outputs": [],
   "source": []
  }
 ],
 "metadata": {
  "kernelspec": {
   "display_name": "Python 3",
   "language": "python",
   "name": "python3"
  },
  "language_info": {
   "codemirror_mode": {
    "name": "ipython",
    "version": 3
   },
   "file_extension": ".py",
   "mimetype": "text/x-python",
   "name": "python",
   "nbconvert_exporter": "python",
   "pygments_lexer": "ipython3",
   "version": "3.7.0"
  }
 },
 "nbformat": 4,
 "nbformat_minor": 2
}
