{
 "cells": [
  {
   "cell_type": "code",
   "execution_count": 2,
   "metadata": {},
   "outputs": [],
   "source": [
    "from __future__ import print_function\n",
    "import torch"
   ]
  },
  {
   "cell_type": "code",
   "execution_count": 3,
   "metadata": {},
   "outputs": [
    {
     "name": "stdout",
     "output_type": "stream",
     "text": [
      "tensor([[ 0.0000,  0.0000,  0.0000],\n",
      "        [ 0.0000, -0.0000,  0.0000],\n",
      "        [-0.0000,  0.0000,  0.0000],\n",
      "        [ 0.0000,  0.0000,  0.0000],\n",
      "        [ 0.0000,  0.0000,  0.0000]])\n"
     ]
    }
   ],
   "source": [
    "# creating an empty 5 X 3 matrix\n",
    "x = torch.empty(5, 3)\n",
    "print(x)"
   ]
  },
  {
   "cell_type": "code",
   "execution_count": 4,
   "metadata": {},
   "outputs": [
    {
     "name": "stdout",
     "output_type": "stream",
     "text": [
      "tensor([[0.9171, 0.3424, 0.1389],\n",
      "        [0.6721, 0.8262, 0.0884],\n",
      "        [0.0947, 0.6251, 0.1219],\n",
      "        [0.2241, 0.5122, 0.1306],\n",
      "        [0.1771, 0.3373, 0.1374]])\n"
     ]
    }
   ],
   "source": [
    "# creating a random 5 X 3 matrix\n",
    "x = torch.rand(5, 3)\n",
    "print(x)"
   ]
  },
  {
   "cell_type": "code",
   "execution_count": 5,
   "metadata": {},
   "outputs": [
    {
     "name": "stdout",
     "output_type": "stream",
     "text": [
      "tensor([[0, 0, 0],\n",
      "        [0, 0, 0],\n",
      "        [0, 0, 0],\n",
      "        [0, 0, 0],\n",
      "        [0, 0, 0]])\n"
     ]
    }
   ],
   "source": [
    "# empty matrix with long data type\n",
    "x = torch.zeros(5, 3, dtype=torch.long)\n",
    "print(x)"
   ]
  },
  {
   "cell_type": "code",
   "execution_count": 6,
   "metadata": {},
   "outputs": [
    {
     "name": "stdout",
     "output_type": "stream",
     "text": [
      "tensor([5.5000, 3.0000])\n"
     ]
    }
   ],
   "source": [
    "# Constructing a tensor directly from data\n",
    "x = torch.tensor([5.5, 3])\n",
    "print(x)"
   ]
  },
  {
   "cell_type": "code",
   "execution_count": 7,
   "metadata": {},
   "outputs": [
    {
     "name": "stdout",
     "output_type": "stream",
     "text": [
      "tensor([[1., 1., 1.],\n",
      "        [1., 1., 1.],\n",
      "        [1., 1., 1.],\n",
      "        [1., 1., 1.],\n",
      "        [1., 1., 1.]], dtype=torch.float64)\n",
      "tensor([[-0.6702,  1.6997, -1.4885],\n",
      "        [ 0.3649,  0.5308,  1.1411],\n",
      "        [ 0.6107, -0.4745,  0.7560],\n",
      "        [ 1.3330, -1.1635,  0.8356],\n",
      "        [ 1.5522,  0.3016,  1.0037]])\n"
     ]
    }
   ],
   "source": [
    "# 5x3 matrix of ones \n",
    "# new_* method takes in the sizes\n",
    "x = x.new_ones(5, 3, dtype=torch.double) \n",
    "print(x)\n",
    "\n",
    "# override dtype \n",
    "# result has the same size\n",
    "x = torch.randn_like(x, dtype=torch.float)\n",
    "print(x)"
   ]
  },
  {
   "cell_type": "code",
   "execution_count": 8,
   "metadata": {},
   "outputs": [
    {
     "name": "stdout",
     "output_type": "stream",
     "text": [
      "torch.Size([5, 3])\n"
     ]
    }
   ],
   "source": [
    "# get its size\n",
    "print(x.size())"
   ]
  },
  {
   "cell_type": "code",
   "execution_count": 9,
   "metadata": {},
   "outputs": [
    {
     "name": "stdout",
     "output_type": "stream",
     "text": [
      "tensor([[-0.1906,  2.6105, -1.0479],\n",
      "        [ 0.7986,  1.3752,  1.2205],\n",
      "        [ 1.3470, -0.0378,  1.6217],\n",
      "        [ 1.8192, -0.6733,  1.7558],\n",
      "        [ 2.1217,  0.5626,  1.4321]])\n"
     ]
    }
   ],
   "source": [
    "# Addition operation on two matrices\n",
    "y = torch.rand(5, 3)\n",
    "print(x + y)"
   ]
  },
  {
   "cell_type": "code",
   "execution_count": 10,
   "metadata": {},
   "outputs": [
    {
     "name": "stdout",
     "output_type": "stream",
     "text": [
      "tensor([[-0.1906,  2.6105, -1.0479],\n",
      "        [ 0.7986,  1.3752,  1.2205],\n",
      "        [ 1.3470, -0.0378,  1.6217],\n",
      "        [ 1.8192, -0.6733,  1.7558],\n",
      "        [ 2.1217,  0.5626,  1.4321]])\n"
     ]
    }
   ],
   "source": [
    "result = torch.empty(5, 3)\n",
    "torch.add(x, y, out=result)\n",
    "print(result)"
   ]
  },
  {
   "cell_type": "code",
   "execution_count": 11,
   "metadata": {},
   "outputs": [
    {
     "name": "stdout",
     "output_type": "stream",
     "text": [
      "tensor([ 1.6997,  0.5308, -0.4745, -1.1635,  0.3016])\n"
     ]
    }
   ],
   "source": [
    "print(x[:, 1])"
   ]
  },
  {
   "cell_type": "code",
   "execution_count": 12,
   "metadata": {},
   "outputs": [
    {
     "name": "stdout",
     "output_type": "stream",
     "text": [
      "tensor([[-0.6702,  1.6997, -1.4885],\n",
      "        [ 0.3649,  0.5308,  1.1411],\n",
      "        [ 0.6107, -0.4745,  0.7560],\n",
      "        [ 1.3330, -1.1635,  0.8356],\n",
      "        [ 1.5522,  0.3016,  1.0037]])\n"
     ]
    }
   ],
   "source": [
    "print(x)"
   ]
  },
  {
   "cell_type": "code",
   "execution_count": 13,
   "metadata": {},
   "outputs": [
    {
     "name": "stdout",
     "output_type": "stream",
     "text": [
      "tensor([-0.6702,  0.3649,  0.6107,  1.3330,  1.5522])\n"
     ]
    }
   ],
   "source": [
    "print(x[:, 0])"
   ]
  },
  {
   "cell_type": "code",
   "execution_count": 14,
   "metadata": {},
   "outputs": [
    {
     "name": "stdout",
     "output_type": "stream",
     "text": [
      "torch.Size([4, 4]) torch.Size([16]) torch.Size([2, 8])\n"
     ]
    }
   ],
   "source": [
    "x = torch.randn(4, 4)\n",
    "y = x.view(16)\n",
    "z = x.view(-1, 8)  # the size -1 is inferred from the other dimention\n",
    "print(x.size(), y.size(), z.size())"
   ]
  },
  {
   "cell_type": "code",
   "execution_count": 15,
   "metadata": {},
   "outputs": [
    {
     "name": "stdout",
     "output_type": "stream",
     "text": [
      "tensor([[-1.8191, -0.9226,  0.5218, -0.0650],\n",
      "        [-1.9105,  0.9595, -1.3590,  1.4311],\n",
      "        [ 1.7616,  0.2838,  0.6048,  1.9329],\n",
      "        [-0.1266,  0.6070, -0.0919,  0.5382]])\n",
      "tensor([-1.8191, -0.9226,  0.5218, -0.0650, -1.9105,  0.9595, -1.3590,  1.4311,\n",
      "         1.7616,  0.2838,  0.6048,  1.9329, -0.1266,  0.6070, -0.0919,  0.5382])\n",
      "tensor([[-1.8191, -0.9226,  0.5218, -0.0650, -1.9105,  0.9595, -1.3590,  1.4311],\n",
      "        [ 1.7616,  0.2838,  0.6048,  1.9329, -0.1266,  0.6070, -0.0919,  0.5382]])\n"
     ]
    }
   ],
   "source": [
    "print(x)\n",
    "print(y)\n",
    "print(z)\n"
   ]
  },
  {
   "cell_type": "code",
   "execution_count": 17,
   "metadata": {},
   "outputs": [
    {
     "name": "stdout",
     "output_type": "stream",
     "text": [
      "tensor([-0.2962])\n",
      "-0.2961638271808624\n"
     ]
    }
   ],
   "source": [
    "x = torch.randn(1)\n",
    "print(x)\n",
    "print(x.item())"
   ]
  },
  {
   "cell_type": "code",
   "execution_count": null,
   "metadata": {},
   "outputs": [],
   "source": []
  }
 ],
 "metadata": {
  "kernelspec": {
   "display_name": "Python 3",
   "language": "python",
   "name": "python3"
  },
  "language_info": {
   "codemirror_mode": {
    "name": "ipython",
    "version": 3
   },
   "file_extension": ".py",
   "mimetype": "text/x-python",
   "name": "python",
   "nbconvert_exporter": "python",
   "pygments_lexer": "ipython3",
   "version": "3.7.0"
  }
 },
 "nbformat": 4,
 "nbformat_minor": 2
}
