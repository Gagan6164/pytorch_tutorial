{
 "cells": [
  {
   "cell_type": "code",
   "execution_count": 5,
   "metadata": {},
   "outputs": [
    {
     "name": "stdout",
     "output_type": "stream",
     "text": [
      "output after training\n",
      "[[0.03185572]\n",
      " [0.00402043]\n",
      " [0.94228349]\n",
      " [0.03197607]]\n"
     ]
    }
   ],
   "source": [
    "import numpy as np\n",
    "\n",
    "def sigmoid(x, deriv = False):\n",
    "    if (deriv==True):\n",
    "        return (x*(1-x))\n",
    "    return (1/(1+np.exp(-x)))\n",
    "\n",
    "x = np.array([[0,1,1],\n",
    "             [1,0,0],\n",
    "             [0,1,0],\n",
    "             [1,1,0]])\n",
    "\n",
    "y = np.array([[0],[0],[1],[0]])\n",
    "\n",
    "#seed\n",
    "\n",
    "np.random.seed(1)\n",
    "\n",
    "# synopsys\n",
    "\n",
    "syn0 = 2*np.random.random((3,4)) - 1 \n",
    "syn1 = 2*np.random.random((4,1)) - 1\n",
    "\n",
    "#print(syn0)\n",
    "#print(syn1)\n",
    "\n",
    "for i in range(500):\n",
    "    l0 = x\n",
    "    l1 = sigmoid(np.dot(l0 , syn0))\n",
    "    l2 = sigmoid(np.dot(l1, syn1))\n",
    "    \n",
    "    # backpropogation\n",
    "    \n",
    "    l2_error = y - l2\n",
    "    \n",
    "    \n",
    "    # delta\n",
    "    \n",
    "    l2_delta = l2_error*sigmoid(l2, deriv=True)\n",
    "    l1_error = l2_delta.dot(syn1.T)\n",
    "    l1_delta = l1_error*sigmoid(l1, deriv=True)\n",
    "    \n",
    "    # update synopsys\n",
    "    \n",
    "    syn1 += l1.T.dot(l2_delta)\n",
    "    syn0 += l0.T.dot(l1_delta)\n",
    "    \n",
    "print(\"output after training\")\n",
    "print(l2)\n",
    "\n"
   ]
  },
  {
   "cell_type": "code",
   "execution_count": null,
   "metadata": {},
   "outputs": [],
   "source": []
  }
 ],
 "metadata": {
  "kernelspec": {
   "display_name": "Python 3",
   "language": "python",
   "name": "python3"
  },
  "language_info": {
   "codemirror_mode": {
    "name": "ipython",
    "version": 3
   },
   "file_extension": ".py",
   "mimetype": "text/x-python",
   "name": "python",
   "nbconvert_exporter": "python",
   "pygments_lexer": "ipython3",
   "version": "3.7.0"
  }
 },
 "nbformat": 4,
 "nbformat_minor": 2
}
